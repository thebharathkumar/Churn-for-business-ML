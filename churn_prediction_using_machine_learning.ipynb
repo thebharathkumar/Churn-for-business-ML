{
  "cells": [
    {
      "cell_type": "markdown",
      "metadata": {
        "_cell_guid": "79c7e3d0-c299-4dcb-8224-4455121ee9b0",
        "_uuid": "d629ff2d2480ee46fbb7e2d37f6b5fab8052498a",
        "collapsed": true,
        "papermill": {
          "duration": 0.063197,
          "end_time": "2020-11-14T09:44:08.739722",
          "exception": false,
          "start_time": "2020-11-14T09:44:08.676525",
          "status": "completed"
        },
        "tags": [],
        "id": "RUZP60LgoUMr"
      },
      "source": [
        "## Churn Prediction\n",
        "### A Machine Learning Model That Can Predict Customers Who Will Leave The Company\n"
      ]
    },
    {
      "cell_type": "code",
      "execution_count": 13,
      "metadata": {
        "execution": {
          "iopub.execute_input": "2020-11-14T09:44:08.884405Z",
          "iopub.status.busy": "2020-11-14T09:44:08.883534Z",
          "iopub.status.idle": "2020-11-14T09:44:11.192457Z",
          "shell.execute_reply": "2020-11-14T09:44:11.193118Z"
        },
        "papermill": {
          "duration": 2.392147,
          "end_time": "2020-11-14T09:44:11.193364",
          "exception": false,
          "start_time": "2020-11-14T09:44:08.801217",
          "status": "completed"
        },
        "tags": [],
        "id": "G4R_l4KdoUM_"
      },
      "outputs": [],
      "source": [
        "\n",
        "import pandas as pd\n",
        "import numpy as np\n",
        "import seaborn as sns\n",
        "import matplotlib.pyplot as plt\n",
        "from matplotlib import pyplot\n",
        "from sklearn.model_selection import cross_val_predict\n",
        "from sklearn.metrics import confusion_matrix, classification_report, f1_score, precision_score, recall_score, roc_auc_score, roc_curve\n",
        "from sklearn.linear_model import LogisticRegression\n",
        "from sklearn.neighbors import KNeighborsClassifier\n",
        "from sklearn.svm import SVC\n",
        "\n",
        "\n",
        "import io\n",
        "from sklearn.ensemble import GradientBoostingClassifier\n",
        "from sklearn.tree import DecisionTreeClassifier\n",
        "from sklearn.ensemble import RandomForestClassifier\n",
        "from lightgbm import LGBMClassifier\n",
        "from sklearn.model_selection import train_test_split\n",
        "from sklearn import preprocessing\n",
        "from sklearn.metrics import accuracy_score,recall_score\n",
        "from xgboost import XGBClassifier\n",
        "from sklearn.model_selection import KFold\n",
        "from sklearn.model_selection import cross_val_score, GridSearchCV\n",
        "from google.colab import files\n",
        "import warnings\n",
        "warnings.filterwarnings(\"ignore\", category=DeprecationWarning)\n",
        "warnings.filterwarnings(\"ignore\", category=FutureWarning)\n",
        "warnings.filterwarnings(\"ignore\", category=UserWarning)\n",
        "%config InlineBackend.figure_format = 'retina'\n",
        "pd.set_option('display.max_columns', None); pd.set_option('display.max_rows', None);"
      ]
    },
    {
      "cell_type": "code",
      "source": [
        "uploaded = files.upload()"
      ],
      "metadata": {
        "colab": {
          "base_uri": "https://localhost:8080/",
          "height": 73
        },
        "id": "zDXyJx6AprO7",
        "outputId": "e4646484-34b1-4762-bb9d-54833e5ccb0f"
      },
      "execution_count": 9,
      "outputs": [
        {
          "output_type": "display_data",
          "data": {
            "text/plain": [
              "<IPython.core.display.HTML object>"
            ],
            "text/html": [
              "\n",
              "     <input type=\"file\" id=\"files-8f082cac-e09b-40ea-ae97-62114439fc92\" name=\"files[]\" multiple disabled\n",
              "        style=\"border:none\" />\n",
              "     <output id=\"result-8f082cac-e09b-40ea-ae97-62114439fc92\">\n",
              "      Upload widget is only available when the cell has been executed in the\n",
              "      current browser session. Please rerun this cell to enable.\n",
              "      </output>\n",
              "      <script>// Copyright 2017 Google LLC\n",
              "//\n",
              "// Licensed under the Apache License, Version 2.0 (the \"License\");\n",
              "// you may not use this file except in compliance with the License.\n",
              "// You may obtain a copy of the License at\n",
              "//\n",
              "//      http://www.apache.org/licenses/LICENSE-2.0\n",
              "//\n",
              "// Unless required by applicable law or agreed to in writing, software\n",
              "// distributed under the License is distributed on an \"AS IS\" BASIS,\n",
              "// WITHOUT WARRANTIES OR CONDITIONS OF ANY KIND, either express or implied.\n",
              "// See the License for the specific language governing permissions and\n",
              "// limitations under the License.\n",
              "\n",
              "/**\n",
              " * @fileoverview Helpers for google.colab Python module.\n",
              " */\n",
              "(function(scope) {\n",
              "function span(text, styleAttributes = {}) {\n",
              "  const element = document.createElement('span');\n",
              "  element.textContent = text;\n",
              "  for (const key of Object.keys(styleAttributes)) {\n",
              "    element.style[key] = styleAttributes[key];\n",
              "  }\n",
              "  return element;\n",
              "}\n",
              "\n",
              "// Max number of bytes which will be uploaded at a time.\n",
              "const MAX_PAYLOAD_SIZE = 100 * 1024;\n",
              "\n",
              "function _uploadFiles(inputId, outputId) {\n",
              "  const steps = uploadFilesStep(inputId, outputId);\n",
              "  const outputElement = document.getElementById(outputId);\n",
              "  // Cache steps on the outputElement to make it available for the next call\n",
              "  // to uploadFilesContinue from Python.\n",
              "  outputElement.steps = steps;\n",
              "\n",
              "  return _uploadFilesContinue(outputId);\n",
              "}\n",
              "\n",
              "// This is roughly an async generator (not supported in the browser yet),\n",
              "// where there are multiple asynchronous steps and the Python side is going\n",
              "// to poll for completion of each step.\n",
              "// This uses a Promise to block the python side on completion of each step,\n",
              "// then passes the result of the previous step as the input to the next step.\n",
              "function _uploadFilesContinue(outputId) {\n",
              "  const outputElement = document.getElementById(outputId);\n",
              "  const steps = outputElement.steps;\n",
              "\n",
              "  const next = steps.next(outputElement.lastPromiseValue);\n",
              "  return Promise.resolve(next.value.promise).then((value) => {\n",
              "    // Cache the last promise value to make it available to the next\n",
              "    // step of the generator.\n",
              "    outputElement.lastPromiseValue = value;\n",
              "    return next.value.response;\n",
              "  });\n",
              "}\n",
              "\n",
              "/**\n",
              " * Generator function which is called between each async step of the upload\n",
              " * process.\n",
              " * @param {string} inputId Element ID of the input file picker element.\n",
              " * @param {string} outputId Element ID of the output display.\n",
              " * @return {!Iterable<!Object>} Iterable of next steps.\n",
              " */\n",
              "function* uploadFilesStep(inputId, outputId) {\n",
              "  const inputElement = document.getElementById(inputId);\n",
              "  inputElement.disabled = false;\n",
              "\n",
              "  const outputElement = document.getElementById(outputId);\n",
              "  outputElement.innerHTML = '';\n",
              "\n",
              "  const pickedPromise = new Promise((resolve) => {\n",
              "    inputElement.addEventListener('change', (e) => {\n",
              "      resolve(e.target.files);\n",
              "    });\n",
              "  });\n",
              "\n",
              "  const cancel = document.createElement('button');\n",
              "  inputElement.parentElement.appendChild(cancel);\n",
              "  cancel.textContent = 'Cancel upload';\n",
              "  const cancelPromise = new Promise((resolve) => {\n",
              "    cancel.onclick = () => {\n",
              "      resolve(null);\n",
              "    };\n",
              "  });\n",
              "\n",
              "  // Wait for the user to pick the files.\n",
              "  const files = yield {\n",
              "    promise: Promise.race([pickedPromise, cancelPromise]),\n",
              "    response: {\n",
              "      action: 'starting',\n",
              "    }\n",
              "  };\n",
              "\n",
              "  cancel.remove();\n",
              "\n",
              "  // Disable the input element since further picks are not allowed.\n",
              "  inputElement.disabled = true;\n",
              "\n",
              "  if (!files) {\n",
              "    return {\n",
              "      response: {\n",
              "        action: 'complete',\n",
              "      }\n",
              "    };\n",
              "  }\n",
              "\n",
              "  for (const file of files) {\n",
              "    const li = document.createElement('li');\n",
              "    li.append(span(file.name, {fontWeight: 'bold'}));\n",
              "    li.append(span(\n",
              "        `(${file.type || 'n/a'}) - ${file.size} bytes, ` +\n",
              "        `last modified: ${\n",
              "            file.lastModifiedDate ? file.lastModifiedDate.toLocaleDateString() :\n",
              "                                    'n/a'} - `));\n",
              "    const percent = span('0% done');\n",
              "    li.appendChild(percent);\n",
              "\n",
              "    outputElement.appendChild(li);\n",
              "\n",
              "    const fileDataPromise = new Promise((resolve) => {\n",
              "      const reader = new FileReader();\n",
              "      reader.onload = (e) => {\n",
              "        resolve(e.target.result);\n",
              "      };\n",
              "      reader.readAsArrayBuffer(file);\n",
              "    });\n",
              "    // Wait for the data to be ready.\n",
              "    let fileData = yield {\n",
              "      promise: fileDataPromise,\n",
              "      response: {\n",
              "        action: 'continue',\n",
              "      }\n",
              "    };\n",
              "\n",
              "    // Use a chunked sending to avoid message size limits. See b/62115660.\n",
              "    let position = 0;\n",
              "    do {\n",
              "      const length = Math.min(fileData.byteLength - position, MAX_PAYLOAD_SIZE);\n",
              "      const chunk = new Uint8Array(fileData, position, length);\n",
              "      position += length;\n",
              "\n",
              "      const base64 = btoa(String.fromCharCode.apply(null, chunk));\n",
              "      yield {\n",
              "        response: {\n",
              "          action: 'append',\n",
              "          file: file.name,\n",
              "          data: base64,\n",
              "        },\n",
              "      };\n",
              "\n",
              "      let percentDone = fileData.byteLength === 0 ?\n",
              "          100 :\n",
              "          Math.round((position / fileData.byteLength) * 100);\n",
              "      percent.textContent = `${percentDone}% done`;\n",
              "\n",
              "    } while (position < fileData.byteLength);\n",
              "  }\n",
              "\n",
              "  // All done.\n",
              "  yield {\n",
              "    response: {\n",
              "      action: 'complete',\n",
              "    }\n",
              "  };\n",
              "}\n",
              "\n",
              "scope.google = scope.google || {};\n",
              "scope.google.colab = scope.google.colab || {};\n",
              "scope.google.colab._files = {\n",
              "  _uploadFiles,\n",
              "  _uploadFilesContinue,\n",
              "};\n",
              "})(self);\n",
              "</script> "
            ]
          },
          "metadata": {}
        },
        {
          "output_type": "stream",
          "name": "stdout",
          "text": [
            "Saving churn.csv to churn (1).csv\n"
          ]
        }
      ]
    },
    {
      "cell_type": "code",
      "execution_count": 17,
      "metadata": {
        "execution": {
          "iopub.execute_input": "2020-11-14T09:44:11.325359Z",
          "iopub.status.busy": "2020-11-14T09:44:11.324533Z",
          "iopub.status.idle": "2020-11-14T09:44:11.369421Z",
          "shell.execute_reply": "2020-11-14T09:44:11.368640Z"
        },
        "papermill": {
          "duration": 0.11461,
          "end_time": "2020-11-14T09:44:11.369546",
          "exception": false,
          "start_time": "2020-11-14T09:44:11.254936",
          "status": "completed"
        },
        "tags": [],
        "id": "rojA4G1-oUNB"
      },
      "outputs": [],
      "source": [
        "df = pd.read_csv(\"churn.csv\", index_col=0)"
      ]
    },
    {
      "cell_type": "markdown",
      "metadata": {
        "papermill": {
          "duration": 0.060614,
          "end_time": "2020-11-14T09:44:11.491913",
          "exception": false,
          "start_time": "2020-11-14T09:44:11.431299",
          "status": "completed"
        },
        "tags": [],
        "id": "1skH4hkioUNC"
      },
      "source": [
        "# Part 1/3 --> EDA"
      ]
    },
    {
      "cell_type": "code",
      "execution_count": null,
      "metadata": {
        "execution": {
          "iopub.execute_input": "2020-11-14T09:44:11.628797Z",
          "iopub.status.busy": "2020-11-14T09:44:11.628011Z",
          "iopub.status.idle": "2020-11-14T09:44:11.640750Z",
          "shell.execute_reply": "2020-11-14T09:44:11.641366Z"
        },
        "papermill": {
          "duration": 0.088261,
          "end_time": "2020-11-14T09:44:11.641516",
          "exception": false,
          "start_time": "2020-11-14T09:44:11.553255",
          "status": "completed"
        },
        "tags": [],
        "id": "IlHTx9SFoUNC"
      },
      "outputs": [],
      "source": [
        "\n",
        "df.head()"
      ]
    },
    {
      "cell_type": "code",
      "execution_count": null,
      "metadata": {
        "execution": {
          "iopub.execute_input": "2020-11-14T09:44:11.773087Z",
          "iopub.status.busy": "2020-11-14T09:44:11.771957Z",
          "iopub.status.idle": "2020-11-14T09:44:11.776533Z",
          "shell.execute_reply": "2020-11-14T09:44:11.775911Z"
        },
        "papermill": {
          "duration": 0.072046,
          "end_time": "2020-11-14T09:44:11.776663",
          "exception": false,
          "start_time": "2020-11-14T09:44:11.704617",
          "status": "completed"
        },
        "tags": [],
        "id": "AEHdL_FGoUND"
      },
      "outputs": [],
      "source": [
        "\n",
        "df.shape"
      ]
    },
    {
      "cell_type": "code",
      "execution_count": null,
      "metadata": {
        "execution": {
          "iopub.execute_input": "2020-11-14T09:44:11.912497Z",
          "iopub.status.busy": "2020-11-14T09:44:11.907982Z",
          "iopub.status.idle": "2020-11-14T09:44:11.926578Z",
          "shell.execute_reply": "2020-11-14T09:44:11.925980Z"
        },
        "papermill": {
          "duration": 0.08679,
          "end_time": "2020-11-14T09:44:11.926713",
          "exception": false,
          "start_time": "2020-11-14T09:44:11.839923",
          "status": "completed"
        },
        "tags": [],
        "id": "52g1e_XroUNE"
      },
      "outputs": [],
      "source": [
        "\n",
        "df.info()"
      ]
    },
    {
      "cell_type": "code",
      "execution_count": null,
      "metadata": {
        "execution": {
          "iopub.execute_input": "2020-11-14T09:44:12.066787Z",
          "iopub.status.busy": "2020-11-14T09:44:12.065991Z",
          "iopub.status.idle": "2020-11-14T09:44:12.113061Z",
          "shell.execute_reply": "2020-11-14T09:44:12.112327Z"
        },
        "papermill": {
          "duration": 0.120841,
          "end_time": "2020-11-14T09:44:12.113208",
          "exception": false,
          "start_time": "2020-11-14T09:44:11.992367",
          "status": "completed"
        },
        "tags": [],
        "id": "8Z8Cdq6qoUNE"
      },
      "outputs": [],
      "source": [
        "\n",
        "df.describe([0.05,0.25,0.50,0.75,0.90,0.95,0.99])"
      ]
    },
    {
      "cell_type": "code",
      "execution_count": null,
      "metadata": {
        "execution": {
          "iopub.execute_input": "2020-11-14T09:44:12.248983Z",
          "iopub.status.busy": "2020-11-14T09:44:12.247977Z",
          "iopub.status.idle": "2020-11-14T09:44:12.260098Z",
          "shell.execute_reply": "2020-11-14T09:44:12.260659Z"
        },
        "papermill": {
          "duration": 0.083339,
          "end_time": "2020-11-14T09:44:12.260820",
          "exception": false,
          "start_time": "2020-11-14T09:44:12.177481",
          "status": "completed"
        },
        "tags": [],
        "id": "xWo0wi8DoUNF"
      },
      "outputs": [],
      "source": [
        "\n",
        "categorical_variables = [col for col in df.columns if col in \"O\"\n",
        "                        or df[col].nunique() <=11\n",
        "                        and col not in \"Exited\"]\n",
        "\n",
        "categorical_variables"
      ]
    },
    {
      "cell_type": "code",
      "execution_count": null,
      "metadata": {
        "execution": {
          "iopub.execute_input": "2020-11-14T09:44:12.398689Z",
          "iopub.status.busy": "2020-11-14T09:44:12.397915Z",
          "iopub.status.idle": "2020-11-14T09:44:12.405820Z",
          "shell.execute_reply": "2020-11-14T09:44:12.405217Z"
        },
        "papermill": {
          "duration": 0.079013,
          "end_time": "2020-11-14T09:44:12.405952",
          "exception": false,
          "start_time": "2020-11-14T09:44:12.326939",
          "status": "completed"
        },
        "tags": [],
        "id": "YR5ZqqE5oUNF"
      },
      "outputs": [],
      "source": [
        "\n",
        "numeric_variables = [col for col in df.columns if df[col].dtype != \"object\"\n",
        "                        and df[col].nunique() >11\n",
        "                        and col not in \"CustomerId\"]\n",
        "numeric_variables"
      ]
    },
    {
      "cell_type": "code",
      "execution_count": null,
      "metadata": {
        "execution": {
          "iopub.execute_input": "2020-11-14T09:44:12.675347Z",
          "iopub.status.busy": "2020-11-14T09:44:12.674470Z",
          "iopub.status.idle": "2020-11-14T09:44:12.678837Z",
          "shell.execute_reply": "2020-11-14T09:44:12.678258Z"
        },
        "papermill": {
          "duration": 0.077348,
          "end_time": "2020-11-14T09:44:12.678962",
          "exception": false,
          "start_time": "2020-11-14T09:44:12.601614",
          "status": "completed"
        },
        "tags": [],
        "id": "RH3t-9MCoUNH"
      },
      "outputs": [],
      "source": [
        "\n",
        "df[\"Exited\"].value_counts()"
      ]
    },
    {
      "cell_type": "code",
      "execution_count": null,
      "metadata": {
        "execution": {
          "iopub.execute_input": "2020-11-14T09:44:12.816282Z",
          "iopub.status.busy": "2020-11-14T09:44:12.815585Z",
          "iopub.status.idle": "2020-11-14T09:44:12.820357Z",
          "shell.execute_reply": "2020-11-14T09:44:12.820856Z"
        },
        "papermill": {
          "duration": 0.076171,
          "end_time": "2020-11-14T09:44:12.821002",
          "exception": false,
          "start_time": "2020-11-14T09:44:12.744831",
          "status": "completed"
        },
        "tags": [],
        "id": "3a4BrwINoUNI"
      },
      "outputs": [],
      "source": [
        "\n",
        "churn = df.loc[df[\"Exited\"]==1]"
      ]
    },
    {
      "cell_type": "code",
      "execution_count": null,
      "metadata": {
        "execution": {
          "iopub.execute_input": "2020-11-14T09:44:12.963801Z",
          "iopub.status.busy": "2020-11-14T09:44:12.962609Z",
          "iopub.status.idle": "2020-11-14T09:44:12.967938Z",
          "shell.execute_reply": "2020-11-14T09:44:12.968731Z"
        },
        "papermill": {
          "duration": 0.080952,
          "end_time": "2020-11-14T09:44:12.968924",
          "exception": false,
          "start_time": "2020-11-14T09:44:12.887972",
          "status": "completed"
        },
        "tags": [],
        "id": "7lse2SCSoUNI"
      },
      "outputs": [],
      "source": [
        "\n",
        "not_churn = df.loc[df[\"Exited\"]==0]"
      ]
    },
    {
      "cell_type": "code",
      "execution_count": null,
      "metadata": {
        "execution": {
          "iopub.execute_input": "2020-11-14T09:44:13.399872Z",
          "iopub.status.busy": "2020-11-14T09:44:13.398846Z",
          "iopub.status.idle": "2020-11-14T09:44:13.403701Z",
          "shell.execute_reply": "2020-11-14T09:44:13.403102Z"
        },
        "papermill": {
          "duration": 0.079389,
          "end_time": "2020-11-14T09:44:13.403827",
          "exception": false,
          "start_time": "2020-11-14T09:44:13.324438",
          "status": "completed"
        },
        "tags": [],
        "id": "YYr4dB8soUNJ"
      },
      "outputs": [],
      "source": [
        "\n",
        "not_churn[\"Tenure\"].value_counts().sort_values()"
      ]
    },
    {
      "cell_type": "code",
      "execution_count": null,
      "metadata": {
        "execution": {
          "iopub.execute_input": "2020-11-14T09:44:13.547201Z",
          "iopub.status.busy": "2020-11-14T09:44:13.546303Z",
          "iopub.status.idle": "2020-11-14T09:44:13.550599Z",
          "shell.execute_reply": "2020-11-14T09:44:13.549838Z"
        },
        "papermill": {
          "duration": 0.079747,
          "end_time": "2020-11-14T09:44:13.550720",
          "exception": false,
          "start_time": "2020-11-14T09:44:13.470973",
          "status": "completed"
        },
        "tags": [],
        "id": "en3FkrIooUNJ"
      },
      "outputs": [],
      "source": [
        "\n",
        "churn[\"Tenure\"].value_counts().sort_values()"
      ]
    },
    {
      "cell_type": "code",
      "execution_count": null,
      "metadata": {
        "execution": {
          "iopub.execute_input": "2020-11-14T09:44:13.835649Z",
          "iopub.status.busy": "2020-11-14T09:44:13.834578Z",
          "iopub.status.idle": "2020-11-14T09:44:13.838528Z",
          "shell.execute_reply": "2020-11-14T09:44:13.839053Z"
        },
        "papermill": {
          "duration": 0.083156,
          "end_time": "2020-11-14T09:44:13.839239",
          "exception": false,
          "start_time": "2020-11-14T09:44:13.756083",
          "status": "completed"
        },
        "tags": [],
        "id": "2zaq5o0BoUNK"
      },
      "outputs": [],
      "source": [
        "\n",
        "not_churn[\"NumOfProducts\"].value_counts().sort_values()"
      ]
    },
    {
      "cell_type": "code",
      "execution_count": null,
      "metadata": {
        "execution": {
          "iopub.execute_input": "2020-11-14T09:44:13.984719Z",
          "iopub.status.busy": "2020-11-14T09:44:13.983632Z",
          "iopub.status.idle": "2020-11-14T09:44:13.987845Z",
          "shell.execute_reply": "2020-11-14T09:44:13.987226Z"
        },
        "papermill": {
          "duration": 0.080671,
          "end_time": "2020-11-14T09:44:13.987977",
          "exception": false,
          "start_time": "2020-11-14T09:44:13.907306",
          "status": "completed"
        },
        "tags": [],
        "id": "XNtVRmO6oUNK"
      },
      "outputs": [],
      "source": [
        "\n",
        "churn[\"NumOfProducts\"].value_counts().sort_values()"
      ]
    },
    {
      "cell_type": "markdown",
      "metadata": {
        "papermill": {
          "duration": 0.068504,
          "end_time": "2020-11-14T09:44:14.126022",
          "exception": false,
          "start_time": "2020-11-14T09:44:14.057518",
          "status": "completed"
        },
        "tags": [],
        "id": "vI5KyiXMoUNK"
      },
      "source": [
        "## HasCrCard"
      ]
    },
    {
      "cell_type": "code",
      "execution_count": null,
      "metadata": {
        "execution": {
          "iopub.execute_input": "2020-11-14T09:44:14.271725Z",
          "iopub.status.busy": "2020-11-14T09:44:14.270654Z",
          "iopub.status.idle": "2020-11-14T09:44:14.275106Z",
          "shell.execute_reply": "2020-11-14T09:44:14.274390Z"
        },
        "papermill": {
          "duration": 0.080613,
          "end_time": "2020-11-14T09:44:14.275258",
          "exception": false,
          "start_time": "2020-11-14T09:44:14.194645",
          "status": "completed"
        },
        "tags": [],
        "id": "guMOIRNCoUNL"
      },
      "outputs": [],
      "source": [
        "# examining the HasCrCard of the not_churn group\n",
        "not_churn[\"HasCrCard\"].value_counts()"
      ]
    },
    {
      "cell_type": "code",
      "execution_count": null,
      "metadata": {
        "execution": {
          "iopub.execute_input": "2020-11-14T09:44:14.422089Z",
          "iopub.status.busy": "2020-11-14T09:44:14.421375Z",
          "iopub.status.idle": "2020-11-14T09:44:14.425334Z",
          "shell.execute_reply": "2020-11-14T09:44:14.426007Z"
        },
        "papermill": {
          "duration": 0.081083,
          "end_time": "2020-11-14T09:44:14.426189",
          "exception": false,
          "start_time": "2020-11-14T09:44:14.345106",
          "status": "completed"
        },
        "tags": [],
        "id": "09z1jTBKoUNL"
      },
      "outputs": [],
      "source": [
        "# examining the HasCrCard of the churn group\n",
        "churn[\"HasCrCard\"].value_counts()"
      ]
    },
    {
      "cell_type": "code",
      "execution_count": null,
      "metadata": {
        "execution": {
          "iopub.execute_input": "2020-11-14T09:44:14.717584Z",
          "iopub.status.busy": "2020-11-14T09:44:14.716483Z",
          "iopub.status.idle": "2020-11-14T09:44:14.720762Z",
          "shell.execute_reply": "2020-11-14T09:44:14.720027Z"
        },
        "papermill": {
          "duration": 0.084647,
          "end_time": "2020-11-14T09:44:14.720883",
          "exception": false,
          "start_time": "2020-11-14T09:44:14.636236",
          "status": "completed"
        },
        "tags": [],
        "id": "6axvU1__oUNL"
      },
      "outputs": [],
      "source": [
        "# examining the IsActiveMember of the not_churn group\n",
        "not_churn[\"IsActiveMember\"].value_counts()"
      ]
    },
    {
      "cell_type": "code",
      "execution_count": null,
      "metadata": {
        "execution": {
          "iopub.execute_input": "2020-11-14T09:44:14.871217Z",
          "iopub.status.busy": "2020-11-14T09:44:14.870378Z",
          "iopub.status.idle": "2020-11-14T09:44:14.875117Z",
          "shell.execute_reply": "2020-11-14T09:44:14.874550Z"
        },
        "papermill": {
          "duration": 0.083388,
          "end_time": "2020-11-14T09:44:14.875272",
          "exception": false,
          "start_time": "2020-11-14T09:44:14.791884",
          "status": "completed"
        },
        "tags": [],
        "id": "dseDVxqyoUNL"
      },
      "outputs": [],
      "source": [
        "# examining the IsActiveMember of the churn group\n",
        "churn[\"IsActiveMember\"].value_counts()"
      ]
    },
    {
      "cell_type": "code",
      "execution_count": null,
      "metadata": {
        "execution": {
          "iopub.execute_input": "2020-11-14T09:44:15.171656Z",
          "iopub.status.busy": "2020-11-14T09:44:15.170872Z",
          "iopub.status.idle": "2020-11-14T09:44:15.174991Z",
          "shell.execute_reply": "2020-11-14T09:44:15.175553Z"
        },
        "papermill": {
          "duration": 0.085791,
          "end_time": "2020-11-14T09:44:15.175724",
          "exception": false,
          "start_time": "2020-11-14T09:44:15.089933",
          "status": "completed"
        },
        "tags": [],
        "id": "qKTU9FCroUNM"
      },
      "outputs": [],
      "source": [
        "# Frequency of not_churn group according to Geography\n",
        "not_churn.Geography.value_counts().sort_values()"
      ]
    },
    {
      "cell_type": "code",
      "execution_count": null,
      "metadata": {
        "execution": {
          "iopub.execute_input": "2020-11-14T09:44:15.329365Z",
          "iopub.status.busy": "2020-11-14T09:44:15.328526Z",
          "iopub.status.idle": "2020-11-14T09:44:15.332642Z",
          "shell.execute_reply": "2020-11-14T09:44:15.331930Z"
        },
        "papermill": {
          "duration": 0.084881,
          "end_time": "2020-11-14T09:44:15.332785",
          "exception": false,
          "start_time": "2020-11-14T09:44:15.247904",
          "status": "completed"
        },
        "tags": [],
        "id": "Clid0HjWoUNM"
      },
      "outputs": [],
      "source": [
        "# Frequency of churn group according to Geography\n",
        "churn.Geography.value_counts().sort_values()"
      ]
    },
    {
      "cell_type": "code",
      "execution_count": null,
      "metadata": {
        "execution": {
          "iopub.execute_input": "2020-11-14T09:44:15.632564Z",
          "iopub.status.busy": "2020-11-14T09:44:15.631587Z",
          "iopub.status.idle": "2020-11-14T09:44:15.636344Z",
          "shell.execute_reply": "2020-11-14T09:44:15.635612Z"
        },
        "papermill": {
          "duration": 0.086619,
          "end_time": "2020-11-14T09:44:15.636468",
          "exception": false,
          "start_time": "2020-11-14T09:44:15.549849",
          "status": "completed"
        },
        "tags": [],
        "id": "TY6uemc_oUNM"
      },
      "outputs": [],
      "source": [
        "# Frequency of not_churn group according to Gender\n",
        "not_churn.Gender.value_counts()"
      ]
    },
    {
      "cell_type": "code",
      "execution_count": null,
      "metadata": {
        "execution": {
          "iopub.execute_input": "2020-11-14T09:44:15.793487Z",
          "iopub.status.busy": "2020-11-14T09:44:15.792511Z",
          "iopub.status.idle": "2020-11-14T09:44:15.796557Z",
          "shell.execute_reply": "2020-11-14T09:44:15.797165Z"
        },
        "papermill": {
          "duration": 0.087009,
          "end_time": "2020-11-14T09:44:15.797331",
          "exception": false,
          "start_time": "2020-11-14T09:44:15.710322",
          "status": "completed"
        },
        "tags": [],
        "id": "h6NSEjyqoUNN"
      },
      "outputs": [],
      "source": [
        "# Frequency of churn group according to Gender\n",
        "churn.Gender.value_counts()"
      ]
    },
    {
      "cell_type": "markdown",
      "metadata": {
        "papermill": {
          "duration": 0.074221,
          "end_time": "2020-11-14T09:44:16.094597",
          "exception": false,
          "start_time": "2020-11-14T09:44:16.020376",
          "status": "completed"
        },
        "tags": [],
        "id": "Xf9Quq9KoUNN"
      },
      "source": [
        "## CreditScore"
      ]
    },
    {
      "cell_type": "code",
      "execution_count": null,
      "metadata": {
        "execution": {
          "iopub.execute_input": "2020-11-14T09:44:16.293734Z",
          "iopub.status.busy": "2020-11-14T09:44:16.292972Z",
          "iopub.status.idle": "2020-11-14T09:44:16.301575Z",
          "shell.execute_reply": "2020-11-14T09:44:16.302108Z"
        },
        "papermill": {
          "duration": 0.089524,
          "end_time": "2020-11-14T09:44:16.302321",
          "exception": false,
          "start_time": "2020-11-14T09:44:16.212797",
          "status": "completed"
        },
        "tags": [],
        "id": "cOZfx16yoUNN"
      },
      "outputs": [],
      "source": [
        "# Let's examine the credit score of the not_churn group\n",
        "not_churn[\"CreditScore\"].describe([0.05,0.25,0.50,0.75,0.90,0.95,0.99])"
      ]
    },
    {
      "cell_type": "code",
      "execution_count": null,
      "metadata": {
        "execution": {
          "iopub.execute_input": "2020-11-14T09:44:16.463553Z",
          "iopub.status.busy": "2020-11-14T09:44:16.462821Z",
          "iopub.status.idle": "2020-11-14T09:44:16.735677Z",
          "shell.execute_reply": "2020-11-14T09:44:16.735006Z"
        },
        "papermill": {
          "duration": 0.358693,
          "end_time": "2020-11-14T09:44:16.735798",
          "exception": false,
          "start_time": "2020-11-14T09:44:16.377105",
          "status": "completed"
        },
        "tags": [],
        "id": "-e-AC0g_oUNN"
      },
      "outputs": [],
      "source": [
        "# distribution of the Credit Score for not_churn\n",
        "pyplot.figure(figsize=(8,6))\n",
        "pyplot.xlabel('CreditScore')\n",
        "pyplot.hist(not_churn[\"CreditScore\"],bins=15, alpha=0.7, label='Not Churn')\n",
        "pyplot.legend(loc='upper right')\n",
        "pyplot.show()"
      ]
    },
    {
      "cell_type": "code",
      "execution_count": null,
      "metadata": {
        "execution": {
          "iopub.execute_input": "2020-11-14T09:44:16.894875Z",
          "iopub.status.busy": "2020-11-14T09:44:16.894057Z",
          "iopub.status.idle": "2020-11-14T09:44:16.902893Z",
          "shell.execute_reply": "2020-11-14T09:44:16.902273Z"
        },
        "papermill": {
          "duration": 0.091021,
          "end_time": "2020-11-14T09:44:16.903015",
          "exception": false,
          "start_time": "2020-11-14T09:44:16.811994",
          "status": "completed"
        },
        "tags": [],
        "id": "eKffmEDFoUNN"
      },
      "outputs": [],
      "source": [
        "# Let's examine the credit score of the churn group\n",
        "churn[\"CreditScore\"].describe([0.05,0.25,0.50,0.75,0.90,0.95,0.99])"
      ]
    },
    {
      "cell_type": "code",
      "execution_count": null,
      "metadata": {
        "execution": {
          "iopub.execute_input": "2020-11-14T09:44:17.068369Z",
          "iopub.status.busy": "2020-11-14T09:44:17.062769Z",
          "iopub.status.idle": "2020-11-14T09:44:17.299939Z",
          "shell.execute_reply": "2020-11-14T09:44:17.299196Z"
        },
        "papermill": {
          "duration": 0.320956,
          "end_time": "2020-11-14T09:44:17.300064",
          "exception": false,
          "start_time": "2020-11-14T09:44:16.979108",
          "status": "completed"
        },
        "tags": [],
        "id": "N93vp3kqoUNO"
      },
      "outputs": [],
      "source": [
        "# distribution of the Credit Score for churn\n",
        "pyplot.figure(figsize=(8,6))\n",
        "pyplot.xlabel('CreditScore')\n",
        "pyplot.hist(churn[\"CreditScore\"],bins=15, alpha=0.8, label='Churn')\n",
        "pyplot.legend(loc='upper right')\n",
        "pyplot.show()"
      ]
    },
    {
      "cell_type": "code",
      "execution_count": null,
      "metadata": {
        "execution": {
          "iopub.execute_input": "2020-11-14T09:44:17.461838Z",
          "iopub.status.busy": "2020-11-14T09:44:17.460786Z",
          "iopub.status.idle": "2020-11-14T09:44:17.879844Z",
          "shell.execute_reply": "2020-11-14T09:44:17.880490Z"
        },
        "papermill": {
          "duration": 0.503064,
          "end_time": "2020-11-14T09:44:17.880658",
          "exception": false,
          "start_time": "2020-11-14T09:44:17.377594",
          "status": "completed"
        },
        "tags": [],
        "id": "qM3BVy-uoUNZ"
      },
      "outputs": [],
      "source": [
        "sns.catplot(\"Exited\", \"CreditScore\", data = df)"
      ]
    },
    {
      "cell_type": "code",
      "execution_count": null,
      "metadata": {
        "execution": {
          "iopub.execute_input": "2020-11-14T09:44:18.209951Z",
          "iopub.status.busy": "2020-11-14T09:44:18.209071Z",
          "iopub.status.idle": "2020-11-14T09:44:18.217633Z",
          "shell.execute_reply": "2020-11-14T09:44:18.218229Z"
        },
        "papermill": {
          "duration": 0.095055,
          "end_time": "2020-11-14T09:44:18.218398",
          "exception": false,
          "start_time": "2020-11-14T09:44:18.123343",
          "status": "completed"
        },
        "tags": [],
        "id": "JZSOGIQKoUNa"
      },
      "outputs": [],
      "source": [
        "# examining the age of the not_churn group\n",
        "not_churn[\"Age\"].describe([0.05,0.25,0.50,0.75,0.90,0.95,0.99])"
      ]
    },
    {
      "cell_type": "code",
      "execution_count": null,
      "metadata": {
        "execution": {
          "iopub.execute_input": "2020-11-14T09:44:18.395390Z",
          "iopub.status.busy": "2020-11-14T09:44:18.389203Z",
          "iopub.status.idle": "2020-11-14T09:44:18.652098Z",
          "shell.execute_reply": "2020-11-14T09:44:18.651453Z"
        },
        "papermill": {
          "duration": 0.35067,
          "end_time": "2020-11-14T09:44:18.652256",
          "exception": false,
          "start_time": "2020-11-14T09:44:18.301586",
          "status": "completed"
        },
        "tags": [],
        "id": "UickQIVZoUNa"
      },
      "outputs": [],
      "source": [
        "# distribution of the Age for not_churn\n",
        "pyplot.figure(figsize=(8,6))\n",
        "pyplot.xlabel('Age')\n",
        "pyplot.hist(not_churn[\"Age\"],bins=15, alpha=0.7, label='Not Churn')\n",
        "pyplot.legend(loc='upper right')\n",
        "pyplot.show()"
      ]
    },
    {
      "cell_type": "code",
      "execution_count": null,
      "metadata": {
        "execution": {
          "iopub.execute_input": "2020-11-14T09:44:18.823847Z",
          "iopub.status.busy": "2020-11-14T09:44:18.823088Z",
          "iopub.status.idle": "2020-11-14T09:44:18.831450Z",
          "shell.execute_reply": "2020-11-14T09:44:18.832090Z"
        },
        "papermill": {
          "duration": 0.097836,
          "end_time": "2020-11-14T09:44:18.832285",
          "exception": false,
          "start_time": "2020-11-14T09:44:18.734449",
          "status": "completed"
        },
        "tags": [],
        "id": "Rlu1cv64oUNb"
      },
      "outputs": [],
      "source": [
        "# examine the age of the churn group\n",
        "churn[\"Age\"].describe([0.05,0.25,0.50,0.75,0.90,0.95,0.99])"
      ]
    },
    {
      "cell_type": "code",
      "execution_count": null,
      "metadata": {
        "execution": {
          "iopub.execute_input": "2020-11-14T09:44:19.011584Z",
          "iopub.status.busy": "2020-11-14T09:44:19.005237Z",
          "iopub.status.idle": "2020-11-14T09:44:19.258400Z",
          "shell.execute_reply": "2020-11-14T09:44:19.257649Z"
        },
        "papermill": {
          "duration": 0.342516,
          "end_time": "2020-11-14T09:44:19.258527",
          "exception": false,
          "start_time": "2020-11-14T09:44:18.916011",
          "status": "completed"
        },
        "tags": [],
        "id": "hfsVXL7koUNb"
      },
      "outputs": [],
      "source": [
        "# distribution of the Age for not_churn\n",
        "pyplot.figure(figsize=(8,6))\n",
        "pyplot.xlabel('Age')\n",
        "pyplot.hist(churn[\"Age\"],bins=15, alpha=0.7, label='Churn')\n",
        "pyplot.legend(loc='upper right')\n",
        "pyplot.show()"
      ]
    },
    {
      "cell_type": "code",
      "execution_count": null,
      "metadata": {
        "execution": {
          "iopub.execute_input": "2020-11-14T09:44:19.437304Z",
          "iopub.status.busy": "2020-11-14T09:44:19.431717Z",
          "iopub.status.idle": "2020-11-14T09:44:19.844994Z",
          "shell.execute_reply": "2020-11-14T09:44:19.845540Z"
        },
        "papermill": {
          "duration": 0.50303,
          "end_time": "2020-11-14T09:44:19.845723",
          "exception": false,
          "start_time": "2020-11-14T09:44:19.342693",
          "status": "completed"
        },
        "tags": [],
        "id": "mPEmXPhToUNb"
      },
      "outputs": [],
      "source": [
        "sns.catplot(\"Exited\", \"Age\", data = df)"
      ]
    },
    {
      "cell_type": "code",
      "execution_count": null,
      "metadata": {
        "execution": {
          "iopub.execute_input": "2020-11-14T09:44:20.197812Z",
          "iopub.status.busy": "2020-11-14T09:44:20.197064Z",
          "iopub.status.idle": "2020-11-14T09:44:20.206509Z",
          "shell.execute_reply": "2020-11-14T09:44:20.205903Z"
        },
        "papermill": {
          "duration": 0.101515,
          "end_time": "2020-11-14T09:44:20.206638",
          "exception": false,
          "start_time": "2020-11-14T09:44:20.105123",
          "status": "completed"
        },
        "tags": [],
        "id": "DmeJ7Y4moUNc"
      },
      "outputs": [],
      "source": [
        "# examining the Balance of the not_churn group\n",
        "not_churn[\"Balance\"].describe([0.05,0.25,0.50,0.75,0.90,0.95,0.99])"
      ]
    },
    {
      "cell_type": "code",
      "execution_count": null,
      "metadata": {
        "execution": {
          "iopub.execute_input": "2020-11-14T09:44:20.392598Z",
          "iopub.status.busy": "2020-11-14T09:44:20.387662Z",
          "iopub.status.idle": "2020-11-14T09:44:20.630846Z",
          "shell.execute_reply": "2020-11-14T09:44:20.630110Z"
        },
        "papermill": {
          "duration": 0.337548,
          "end_time": "2020-11-14T09:44:20.630965",
          "exception": false,
          "start_time": "2020-11-14T09:44:20.293417",
          "status": "completed"
        },
        "tags": [],
        "id": "RoimhPcUoUNc"
      },
      "outputs": [],
      "source": [
        "# distribution of the Balance for not_churn\n",
        "pyplot.figure(figsize=(8,6))\n",
        "pyplot.xlabel('Balance')\n",
        "pyplot.hist(not_churn[\"Balance\"],bins=15, alpha=0.7, label='Not Churn')\n",
        "pyplot.legend(loc='upper right')\n",
        "pyplot.show()"
      ]
    },
    {
      "cell_type": "code",
      "execution_count": null,
      "metadata": {
        "execution": {
          "iopub.execute_input": "2020-11-14T09:44:20.813450Z",
          "iopub.status.busy": "2020-11-14T09:44:20.812385Z",
          "iopub.status.idle": "2020-11-14T09:44:20.821405Z",
          "shell.execute_reply": "2020-11-14T09:44:20.820811Z"
        },
        "papermill": {
          "duration": 0.102542,
          "end_time": "2020-11-14T09:44:20.821523",
          "exception": false,
          "start_time": "2020-11-14T09:44:20.718981",
          "status": "completed"
        },
        "tags": [],
        "id": "gBUARBfVoUNc"
      },
      "outputs": [],
      "source": [
        "# examining the Balance of the churn group\n",
        "churn[\"Balance\"].describe([0.05,0.25,0.50,0.75,0.90,0.95,0.99])"
      ]
    },
    {
      "cell_type": "code",
      "execution_count": null,
      "metadata": {
        "execution": {
          "iopub.execute_input": "2020-11-14T09:44:21.016699Z",
          "iopub.status.busy": "2020-11-14T09:44:21.015912Z",
          "iopub.status.idle": "2020-11-14T09:44:21.248019Z",
          "shell.execute_reply": "2020-11-14T09:44:21.247230Z"
        },
        "papermill": {
          "duration": 0.337972,
          "end_time": "2020-11-14T09:44:21.248192",
          "exception": false,
          "start_time": "2020-11-14T09:44:20.910220",
          "status": "completed"
        },
        "tags": [],
        "id": "wWMvv-IwoUNd"
      },
      "outputs": [],
      "source": [
        "# distribution of the Balance for churn\n",
        "pyplot.figure(figsize=(8,6))\n",
        "pyplot.xlabel('Balance')\n",
        "pyplot.hist(churn[\"Balance\"],bins=15, alpha=0.7, label='Churn')\n",
        "pyplot.legend(loc='upper right')\n",
        "pyplot.show()"
      ]
    },
    {
      "cell_type": "code",
      "execution_count": null,
      "metadata": {
        "execution": {
          "iopub.execute_input": "2020-11-14T09:44:21.449955Z",
          "iopub.status.busy": "2020-11-14T09:44:21.434482Z",
          "iopub.status.idle": "2020-11-14T09:44:21.841408Z",
          "shell.execute_reply": "2020-11-14T09:44:21.840790Z"
        },
        "papermill": {
          "duration": 0.50246,
          "end_time": "2020-11-14T09:44:21.841526",
          "exception": false,
          "start_time": "2020-11-14T09:44:21.339066",
          "status": "completed"
        },
        "tags": [],
        "id": "6Pxh2GiMoUNd"
      },
      "outputs": [],
      "source": [
        "sns.catplot(\"Exited\", \"Balance\", data = df)"
      ]
    },
    {
      "cell_type": "code",
      "execution_count": null,
      "metadata": {
        "execution": {
          "iopub.execute_input": "2020-11-14T09:44:22.219977Z",
          "iopub.status.busy": "2020-11-14T09:44:22.219182Z",
          "iopub.status.idle": "2020-11-14T09:44:22.227811Z",
          "shell.execute_reply": "2020-11-14T09:44:22.227198Z"
        },
        "papermill": {
          "duration": 0.108009,
          "end_time": "2020-11-14T09:44:22.227948",
          "exception": false,
          "start_time": "2020-11-14T09:44:22.119939",
          "status": "completed"
        },
        "tags": [],
        "id": "B593WVAboUNd"
      },
      "outputs": [],
      "source": [
        "# examining the EstimatedSalary of the not_churn group\n",
        "not_churn[\"EstimatedSalary\"].describe([0.05,0.25,0.50,0.75,0.90,0.95,0.99])"
      ]
    },
    {
      "cell_type": "code",
      "execution_count": null,
      "metadata": {
        "execution": {
          "iopub.execute_input": "2020-11-14T09:44:22.428394Z",
          "iopub.status.busy": "2020-11-14T09:44:22.423332Z",
          "iopub.status.idle": "2020-11-14T09:44:22.683495Z",
          "shell.execute_reply": "2020-11-14T09:44:22.682857Z"
        },
        "papermill": {
          "duration": 0.361046,
          "end_time": "2020-11-14T09:44:22.683637",
          "exception": false,
          "start_time": "2020-11-14T09:44:22.322591",
          "status": "completed"
        },
        "tags": [],
        "id": "iHDDOlT9oUNe"
      },
      "outputs": [],
      "source": [
        "# distribution of the Balance for churn\n",
        "pyplot.figure(figsize=(8,6))\n",
        "pyplot.xlabel('EstimatedSalary')\n",
        "pyplot.hist(not_churn[\"EstimatedSalary\"],bins=15, alpha=0.7, label='Not Churn')\n",
        "pyplot.legend(loc='upper right')\n",
        "pyplot.show()"
      ]
    },
    {
      "cell_type": "code",
      "execution_count": null,
      "metadata": {
        "execution": {
          "iopub.execute_input": "2020-11-14T09:44:22.878458Z",
          "iopub.status.busy": "2020-11-14T09:44:22.877535Z",
          "iopub.status.idle": "2020-11-14T09:44:22.887045Z",
          "shell.execute_reply": "2020-11-14T09:44:22.886339Z"
        },
        "papermill": {
          "duration": 0.109358,
          "end_time": "2020-11-14T09:44:22.887182",
          "exception": false,
          "start_time": "2020-11-14T09:44:22.777824",
          "status": "completed"
        },
        "tags": [],
        "id": "IQWee_CFoUNe"
      },
      "outputs": [],
      "source": [
        "# examining the EstimatedSalary of the churn group\n",
        "churn[\"EstimatedSalary\"].describe([0.05,0.25,0.50,0.75,0.90,0.95,0.99])"
      ]
    },
    {
      "cell_type": "code",
      "execution_count": null,
      "metadata": {
        "execution": {
          "iopub.execute_input": "2020-11-14T09:44:23.198752Z",
          "iopub.status.busy": "2020-11-14T09:44:23.085453Z",
          "iopub.status.idle": "2020-11-14T09:44:23.452113Z",
          "shell.execute_reply": "2020-11-14T09:44:23.452688Z"
        },
        "papermill": {
          "duration": 0.470381,
          "end_time": "2020-11-14T09:44:23.452859",
          "exception": false,
          "start_time": "2020-11-14T09:44:22.982478",
          "status": "completed"
        },
        "tags": [],
        "id": "V9fXlI29oUNe"
      },
      "outputs": [],
      "source": [
        "# distribution of the EstimatedSalary for churn\n",
        "pyplot.figure(figsize=(8,6))\n",
        "pyplot.xlabel('EstimatedSalary')\n",
        "pyplot.hist(churn[\"EstimatedSalary\"],bins=15, alpha=0.7, label='Churn')\n",
        "pyplot.legend(loc='upper right')\n",
        "pyplot.show()"
      ]
    },
    {
      "cell_type": "code",
      "execution_count": null,
      "metadata": {
        "execution": {
          "iopub.execute_input": "2020-11-14T09:44:23.654632Z",
          "iopub.status.busy": "2020-11-14T09:44:23.649512Z",
          "iopub.status.idle": "2020-11-14T09:44:24.088804Z",
          "shell.execute_reply": "2020-11-14T09:44:24.088025Z"
        },
        "papermill": {
          "duration": 0.53994,
          "end_time": "2020-11-14T09:44:24.088930",
          "exception": false,
          "start_time": "2020-11-14T09:44:23.548990",
          "status": "completed"
        },
        "tags": [],
        "id": "-IX-DNkUoUNf"
      },
      "outputs": [],
      "source": [
        "sns.catplot(\"Exited\", \"EstimatedSalary\", data = df)"
      ]
    },
    {
      "cell_type": "code",
      "execution_count": null,
      "metadata": {
        "execution": {
          "iopub.execute_input": "2020-11-14T09:44:24.496576Z",
          "iopub.status.busy": "2020-11-14T09:44:24.493881Z",
          "iopub.status.idle": "2020-11-14T09:44:25.205046Z",
          "shell.execute_reply": "2020-11-14T09:44:25.205637Z"
        },
        "papermill": {
          "duration": 0.817789,
          "end_time": "2020-11-14T09:44:25.205791",
          "exception": false,
          "start_time": "2020-11-14T09:44:24.388002",
          "status": "completed"
        },
        "tags": [],
        "id": "ix8Ez0w-oUNf"
      },
      "outputs": [],
      "source": [
        "# Exited correlation matrix\n",
        "k = 10 #number of variables for heatmap\n",
        "cols = df.corr().nlargest(k, 'Exited')['Exited'].index\n",
        "cm = df[cols].corr()\n",
        "plt.figure(figsize=(10,6))\n",
        "sns.heatmap(cm, annot=True, cmap = 'viridis')"
      ]
    },
    {
      "cell_type": "markdown",
      "metadata": {
        "papermill": {
          "duration": 0.102829,
          "end_time": "2020-11-14T09:44:25.413781",
          "exception": false,
          "start_time": "2020-11-14T09:44:25.310952",
          "status": "completed"
        },
        "tags": [],
        "id": "BlOxHNMGoUNg"
      },
      "source": [
        "# Part 2/3-> Data Preprocessing"
      ]
    },
    {
      "cell_type": "code",
      "execution_count": null,
      "metadata": {
        "execution": {
          "iopub.execute_input": "2020-11-14T09:44:25.836856Z",
          "iopub.status.busy": "2020-11-14T09:44:25.836047Z",
          "iopub.status.idle": "2020-11-14T09:44:25.843113Z",
          "shell.execute_reply": "2020-11-14T09:44:25.842409Z"
        },
        "papermill": {
          "duration": 0.119432,
          "end_time": "2020-11-14T09:44:25.843250",
          "exception": false,
          "start_time": "2020-11-14T09:44:25.723818",
          "status": "completed"
        },
        "tags": [],
        "id": "kyKrE-LLoUNg"
      },
      "outputs": [],
      "source": [
        "# # Missing Observation Analysis\n",
        "df.isnull().sum()"
      ]
    },
    {
      "cell_type": "code",
      "execution_count": null,
      "metadata": {
        "execution": {
          "iopub.execute_input": "2020-11-14T09:44:26.268205Z",
          "iopub.status.busy": "2020-11-14T09:44:26.267184Z",
          "iopub.status.idle": "2020-11-14T09:44:26.270380Z",
          "shell.execute_reply": "2020-11-14T09:44:26.269673Z"
        },
        "papermill": {
          "duration": 0.115094,
          "end_time": "2020-11-14T09:44:26.270503",
          "exception": false,
          "start_time": "2020-11-14T09:44:26.155409",
          "status": "completed"
        },
        "tags": [],
        "id": "Do67DlE9oUNg"
      },
      "outputs": [],
      "source": [
        "# To determine the threshold value for outliers\n",
        "def outlier_thresholds(dataframe, variable, low_quantile=0.05, up_quantile=0.95):\n",
        "    quantile_one = dataframe[variable].quantile(low_quantile)\n",
        "    quantile_three = dataframe[variable].quantile(up_quantile)\n",
        "    interquantile_range = quantile_three - quantile_one\n",
        "    up_limit = quantile_three + 1.5 * interquantile_range\n",
        "    low_limit = quantile_one - 1.5 * interquantile_range\n",
        "    return low_limit, up_limit"
      ]
    },
    {
      "cell_type": "code",
      "execution_count": null,
      "metadata": {
        "execution": {
          "iopub.execute_input": "2020-11-14T09:44:26.493567Z",
          "iopub.status.busy": "2020-11-14T09:44:26.492498Z",
          "iopub.status.idle": "2020-11-14T09:44:26.495933Z",
          "shell.execute_reply": "2020-11-14T09:44:26.495209Z"
        },
        "papermill": {
          "duration": 0.120259,
          "end_time": "2020-11-14T09:44:26.496060",
          "exception": false,
          "start_time": "2020-11-14T09:44:26.375801",
          "status": "completed"
        },
        "tags": [],
        "id": "gkLRDsVGoUNh"
      },
      "outputs": [],
      "source": [
        "# Are there any outliers in the variables\n",
        "def has_outliers(dataframe, numeric_columns, plot=False):\n",
        "   # variable_names = []\n",
        "    for col in numeric_columns:\n",
        "        low_limit, up_limit = outlier_thresholds(dataframe, col)\n",
        "        if dataframe[(dataframe[col] > up_limit) | (dataframe[col] < low_limit)].any(axis=None):\n",
        "            number_of_outliers = dataframe[(dataframe[col] > up_limit) | (dataframe[col] < low_limit)].shape[0]\n",
        "            print(col, \" : \", number_of_outliers, \"outliers\")\n",
        "            #variable_names.append(col)\n",
        "            if plot:\n",
        "                sns.boxplot(x=dataframe[col])\n",
        "                plt.show()\n",
        "    #return variable_names"
      ]
    },
    {
      "cell_type": "code",
      "execution_count": null,
      "metadata": {
        "execution": {
          "iopub.execute_input": "2020-11-14T09:44:26.712981Z",
          "iopub.status.busy": "2020-11-14T09:44:26.712177Z",
          "iopub.status.idle": "2020-11-14T09:44:26.731180Z",
          "shell.execute_reply": "2020-11-14T09:44:26.730473Z"
        },
        "papermill": {
          "duration": 0.130791,
          "end_time": "2020-11-14T09:44:26.731304",
          "exception": false,
          "start_time": "2020-11-14T09:44:26.600513",
          "status": "completed"
        },
        "tags": [],
        "id": "mKIhYYyqoUNh"
      },
      "outputs": [],
      "source": [
        "# There is no outlier\n",
        "for var in numeric_variables:\n",
        "    print(var, \"has \" , has_outliers(df, [var]),  \"Outliers\")"
      ]
    },
    {
      "cell_type": "code",
      "execution_count": null,
      "metadata": {
        "execution": {
          "iopub.execute_input": "2020-11-14T09:44:27.163777Z",
          "iopub.status.busy": "2020-11-14T09:44:27.160504Z",
          "iopub.status.idle": "2020-11-14T09:44:27.184425Z",
          "shell.execute_reply": "2020-11-14T09:44:27.183812Z"
        },
        "papermill": {
          "duration": 0.137882,
          "end_time": "2020-11-14T09:44:27.184556",
          "exception": false,
          "start_time": "2020-11-14T09:44:27.046674",
          "status": "completed"
        },
        "tags": [],
        "id": "sPog5_E_oUNh"
      },
      "outputs": [],
      "source": [
        "# we standardize tenure with age\n",
        "df[\"NewTenure\"] = df[\"Tenure\"]/df[\"Age\"]\n",
        "df[\"NewCreditsScore\"] = pd.qcut(df['CreditScore'], 6, labels = [1, 2, 3, 4, 5, 6])\n",
        "df[\"NewAgeScore\"] = pd.qcut(df['Age'], 8, labels = [1, 2, 3, 4, 5, 6, 7, 8])\n",
        "df[\"NewBalanceScore\"] = pd.qcut(df['Balance'].rank(method=\"first\"), 5, labels = [1, 2, 3, 4, 5])\n",
        "df[\"NewEstSalaryScore\"] = pd.qcut(df['EstimatedSalary'], 10, labels = [1, 2, 3, 4, 5, 6, 7, 8, 9, 10])"
      ]
    },
    {
      "cell_type": "code",
      "execution_count": null,
      "metadata": {
        "execution": {
          "iopub.execute_input": "2020-11-14T09:44:27.420064Z",
          "iopub.status.busy": "2020-11-14T09:44:27.419306Z",
          "iopub.status.idle": "2020-11-14T09:44:27.424573Z",
          "shell.execute_reply": "2020-11-14T09:44:27.423991Z"
        },
        "papermill": {
          "duration": 0.135188,
          "end_time": "2020-11-14T09:44:27.424697",
          "exception": false,
          "start_time": "2020-11-14T09:44:27.289509",
          "status": "completed"
        },
        "tags": [],
        "id": "9k-2BOI6oUNi"
      },
      "outputs": [],
      "source": [
        "df.head()"
      ]
    },
    {
      "cell_type": "code",
      "execution_count": null,
      "metadata": {
        "execution": {
          "iopub.execute_input": "2020-11-14T09:44:27.862232Z",
          "iopub.status.busy": "2020-11-14T09:44:27.858529Z",
          "iopub.status.idle": "2020-11-14T09:44:27.872044Z",
          "shell.execute_reply": "2020-11-14T09:44:27.871265Z"
        },
        "papermill": {
          "duration": 0.129865,
          "end_time": "2020-11-14T09:44:27.872191",
          "exception": false,
          "start_time": "2020-11-14T09:44:27.742326",
          "status": "completed"
        },
        "tags": [],
        "id": "czv_YwzcoUNi"
      },
      "outputs": [],
      "source": [
        "# Variables to apply one hot encoding\n",
        "list = [\"Gender\", \"Geography\"]\n",
        "df = pd.get_dummies(df, columns =list, drop_first = True)"
      ]
    },
    {
      "cell_type": "code",
      "execution_count": null,
      "metadata": {
        "execution": {
          "iopub.execute_input": "2020-11-14T09:44:28.108849Z",
          "iopub.status.busy": "2020-11-14T09:44:28.107978Z",
          "iopub.status.idle": "2020-11-14T09:44:28.113272Z",
          "shell.execute_reply": "2020-11-14T09:44:28.112543Z"
        },
        "papermill": {
          "duration": 0.134679,
          "end_time": "2020-11-14T09:44:28.113404",
          "exception": false,
          "start_time": "2020-11-14T09:44:27.978725",
          "status": "completed"
        },
        "tags": [],
        "id": "0wEhiVLAoUNj"
      },
      "outputs": [],
      "source": [
        "df.head()"
      ]
    },
    {
      "cell_type": "code",
      "execution_count": null,
      "metadata": {
        "execution": {
          "iopub.execute_input": "2020-11-14T09:44:28.551876Z",
          "iopub.status.busy": "2020-11-14T09:44:28.550736Z",
          "iopub.status.idle": "2020-11-14T09:44:28.556519Z",
          "shell.execute_reply": "2020-11-14T09:44:28.555883Z"
        },
        "papermill": {
          "duration": 0.120164,
          "end_time": "2020-11-14T09:44:28.556652",
          "exception": false,
          "start_time": "2020-11-14T09:44:28.436488",
          "status": "completed"
        },
        "tags": [],
        "id": "GIZCWP0DoUNj"
      },
      "outputs": [],
      "source": [
        "# Removing variables that will not affect the dependent variable\n",
        "df = df.drop([\"CustomerId\",\"Surname\"], axis = 1)"
      ]
    },
    {
      "cell_type": "code",
      "execution_count": null,
      "metadata": {
        "execution": {
          "iopub.execute_input": "2020-11-14T09:44:28.785132Z",
          "iopub.status.busy": "2020-11-14T09:44:28.784246Z",
          "iopub.status.idle": "2020-11-14T09:44:28.787552Z",
          "shell.execute_reply": "2020-11-14T09:44:28.786786Z"
        },
        "papermill": {
          "duration": 0.122415,
          "end_time": "2020-11-14T09:44:28.787675",
          "exception": false,
          "start_time": "2020-11-14T09:44:28.665260",
          "status": "completed"
        },
        "tags": [],
        "id": "iX98vWCYoUNj"
      },
      "outputs": [],
      "source": [
        "# Scale features using statistics that are robust to outliers.\n",
        "def robust_scaler(variable):\n",
        "    var_median = variable.median()\n",
        "    quartile1 = variable.quantile(0.25)\n",
        "    quartile3 = variable.quantile(0.75)\n",
        "    interquantile_range = quartile3 - quartile1\n",
        "    if int(interquantile_range) == 0:\n",
        "        quartile1 = variable.quantile(0.05)\n",
        "        quartile3 = variable.quantile(0.95)\n",
        "        interquantile_range = quartile3 - quartile1\n",
        "        if int(interquantile_range) == 0:\n",
        "            quartile1 = variable.quantile(0.01)\n",
        "            quartile3 = variable.quantile(0.99)\n",
        "            interquantile_range = quartile3 - quartile1\n",
        "            z = (variable - var_median) / interquantile_range\n",
        "            return round(z, 3)\n",
        "\n",
        "        z = (variable - var_median) / interquantile_range\n",
        "        return round(z, 3)\n",
        "    else:\n",
        "        z = (variable - var_median) / interquantile_range\n",
        "    return round(z, 3)"
      ]
    },
    {
      "cell_type": "code",
      "execution_count": null,
      "metadata": {
        "execution": {
          "iopub.execute_input": "2020-11-14T09:44:29.013446Z",
          "iopub.status.busy": "2020-11-14T09:44:29.012324Z",
          "iopub.status.idle": "2020-11-14T09:44:29.057025Z",
          "shell.execute_reply": "2020-11-14T09:44:29.056259Z"
        },
        "papermill": {
          "duration": 0.161515,
          "end_time": "2020-11-14T09:44:29.057178",
          "exception": false,
          "start_time": "2020-11-14T09:44:28.895663",
          "status": "completed"
        },
        "tags": [],
        "id": "K0Nw9QNeoUNk"
      },
      "outputs": [],
      "source": [
        "new_cols_ohe = [\"Gender_Male\",\"Geography_Germany\",\"Geography_Spain\"]\n",
        "like_num = [col for col in df.columns if df[col].dtypes != 'O' and len(df[col].value_counts()) <= 10]\n",
        "cols_need_scale = [col for col in df.columns if col not in new_cols_ohe\n",
        "                   and col not in \"Exited\"\n",
        "                   and col not in like_num]\n",
        "\n",
        "for col in cols_need_scale:\n",
        "    df[col] = robust_scaler(df[col])"
      ]
    },
    {
      "cell_type": "code",
      "execution_count": null,
      "metadata": {
        "execution": {
          "iopub.execute_input": "2020-11-14T09:44:29.301999Z",
          "iopub.status.busy": "2020-11-14T09:44:29.300953Z",
          "iopub.status.idle": "2020-11-14T09:44:29.306346Z",
          "shell.execute_reply": "2020-11-14T09:44:29.305654Z"
        },
        "papermill": {
          "duration": 0.141024,
          "end_time": "2020-11-14T09:44:29.306481",
          "exception": false,
          "start_time": "2020-11-14T09:44:29.165457",
          "status": "completed"
        },
        "tags": [],
        "id": "fxPsbI59oUNk"
      },
      "outputs": [],
      "source": [
        "df.head()"
      ]
    },
    {
      "cell_type": "markdown",
      "metadata": {
        "papermill": {
          "duration": 0.108284,
          "end_time": "2020-11-14T09:44:29.525739",
          "exception": false,
          "start_time": "2020-11-14T09:44:29.417455",
          "status": "completed"
        },
        "tags": [],
        "id": "wjaG9HrjoUNl"
      },
      "source": [
        "# Part 3/3 Model"
      ]
    },
    {
      "cell_type": "code",
      "execution_count": null,
      "metadata": {
        "execution": {
          "iopub.execute_input": "2020-11-14T09:44:29.759407Z",
          "iopub.status.busy": "2020-11-14T09:44:29.758236Z",
          "iopub.status.idle": "2020-11-14T09:45:39.496712Z",
          "shell.execute_reply": "2020-11-14T09:45:39.497961Z"
        },
        "papermill": {
          "duration": 69.863355,
          "end_time": "2020-11-14T09:45:39.498194",
          "exception": false,
          "start_time": "2020-11-14T09:44:29.634839",
          "status": "completed"
        },
        "tags": [],
        "id": "rmfk1yI_oUNl"
      },
      "outputs": [],
      "source": [
        "X = df.drop(\"Exited\",axis=1)\n",
        "y = df[\"Exited\"]\n",
        "# Train-Test Separation\n",
        "X_train, X_test, y_train, y_test = train_test_split(X, y, test_size=0.20, random_state=12345)\n",
        "# Models for Classification\n",
        "models = [('LR', LogisticRegression(random_state=123456)),\n",
        "          ('KNN', KNeighborsClassifier()),\n",
        "          ('CART', DecisionTreeClassifier(random_state=123456)),\n",
        "          ('RF', RandomForestClassifier(random_state=123456)),\n",
        "          ('SVR', SVC(gamma='auto',random_state=123456)),\n",
        "          ('GB', GradientBoostingClassifier(random_state = 12345)),\n",
        "          (\"LightGBM\", LGBMClassifier(random_state=123456))]\n",
        "results = []\n",
        "names = []\n",
        "for name, model in models:\n",
        "    kfold = KFold(n_splits=10, random_state=123456)\n",
        "    cv_results = cross_val_score(model, X, y, cv=kfold)\n",
        "    results.append(cv_results)\n",
        "    names.append(name)\n",
        "    msg = \"%s: %f (%f)\" % (name, cv_results.mean(), cv_results.std())\n",
        "    print(msg)"
      ]
    },
    {
      "cell_type": "code",
      "execution_count": null,
      "metadata": {
        "execution": {
          "iopub.execute_input": "2020-11-14T09:45:39.768459Z",
          "iopub.status.busy": "2020-11-14T09:45:39.765271Z",
          "iopub.status.idle": "2020-11-14T09:45:41.290509Z",
          "shell.execute_reply": "2020-11-14T09:45:41.291072Z"
        },
        "papermill": {
          "duration": 1.652364,
          "end_time": "2020-11-14T09:45:41.291270",
          "exception": false,
          "start_time": "2020-11-14T09:45:39.638906",
          "status": "completed"
        },
        "tags": [],
        "id": "J3geGAWpoUNm"
      },
      "outputs": [],
      "source": [
        "# GB Confusion Matrix\n",
        "model_GB = GradientBoostingClassifier(random_state=12345)\n",
        "model_GB.fit(X_train, y_train)\n",
        "y_pred = model_GB.predict(X_test)\n",
        "conf_mat = confusion_matrix(y_pred,y_test)\n",
        "conf_mat"
      ]
    },
    {
      "cell_type": "code",
      "execution_count": null,
      "metadata": {
        "execution": {
          "iopub.execute_input": "2020-11-14T09:45:41.533174Z",
          "iopub.status.busy": "2020-11-14T09:45:41.532074Z",
          "iopub.status.idle": "2020-11-14T09:45:41.538244Z",
          "shell.execute_reply": "2020-11-14T09:45:41.537287Z"
        },
        "papermill": {
          "duration": 0.132659,
          "end_time": "2020-11-14T09:45:41.538409",
          "exception": false,
          "start_time": "2020-11-14T09:45:41.405750",
          "status": "completed"
        },
        "tags": [],
        "id": "Zga9E4UQoUNm"
      },
      "outputs": [],
      "source": [
        "print(\"True Positive : \", conf_mat[1, 1])\n",
        "print(\"True Negative : \", conf_mat[0, 0])\n",
        "print(\"False Positive: \", conf_mat[0, 1])\n",
        "print(\"False Negative: \", conf_mat[1, 0])"
      ]
    },
    {
      "cell_type": "code",
      "execution_count": null,
      "metadata": {
        "execution": {
          "iopub.execute_input": "2020-11-14T09:45:41.803189Z",
          "iopub.status.busy": "2020-11-14T09:45:41.802428Z",
          "iopub.status.idle": "2020-11-14T09:45:41.823392Z",
          "shell.execute_reply": "2020-11-14T09:45:41.824199Z"
        },
        "papermill": {
          "duration": 0.16913,
          "end_time": "2020-11-14T09:45:41.824398",
          "exception": false,
          "start_time": "2020-11-14T09:45:41.655268",
          "status": "completed"
        },
        "tags": [],
        "id": "H_QR8OJ2oUNn"
      },
      "outputs": [],
      "source": [
        "# Classification Report for XGB Model\n",
        "print(classification_report(model_GB.predict(X_test),y_test))"
      ]
    },
    {
      "cell_type": "code",
      "execution_count": null,
      "metadata": {
        "execution": {
          "iopub.execute_input": "2020-11-14T09:45:42.131035Z",
          "iopub.status.busy": "2020-11-14T09:45:42.130271Z",
          "iopub.status.idle": "2020-11-14T09:45:42.132878Z",
          "shell.execute_reply": "2020-11-14T09:45:42.133463Z"
        },
        "papermill": {
          "duration": 0.150827,
          "end_time": "2020-11-14T09:45:42.133612",
          "exception": false,
          "start_time": "2020-11-14T09:45:41.982785",
          "status": "completed"
        },
        "tags": [],
        "id": "91LJLGPOoUNn"
      },
      "outputs": [],
      "source": [
        "# Auc Roc Curve\n",
        "def generate_auc_roc_curve(clf, X_test):\n",
        "    y_pred_proba = clf.predict_proba(X_test)[:, 1]\n",
        "    fpr, tpr, thresholds = roc_curve(y_test,  y_pred_proba)\n",
        "    auc = roc_auc_score(y_test, y_pred_proba)\n",
        "    plt.plot(fpr,tpr,label=\"AUC ROC Curve with Area Under the curve =\"+str(auc))\n",
        "    plt.legend(loc=4)\n",
        "    plt.show()\n",
        "    pass"
      ]
    },
    {
      "cell_type": "code",
      "execution_count": null,
      "metadata": {
        "execution": {
          "iopub.execute_input": "2020-11-14T09:45:42.370446Z",
          "iopub.status.busy": "2020-11-14T09:45:42.369680Z",
          "iopub.status.idle": "2020-11-14T09:45:42.563253Z",
          "shell.execute_reply": "2020-11-14T09:45:42.562503Z"
        },
        "papermill": {
          "duration": 0.316733,
          "end_time": "2020-11-14T09:45:42.563385",
          "exception": false,
          "start_time": "2020-11-14T09:45:42.246652",
          "status": "completed"
        },
        "tags": [],
        "id": "NYf2G4FXoUNn"
      },
      "outputs": [],
      "source": [
        "generate_auc_roc_curve(model_GB, X_test)"
      ]
    },
    {
      "cell_type": "markdown",
      "metadata": {
        "papermill": {
          "duration": 0.12033,
          "end_time": "2020-11-14T09:45:42.800356",
          "exception": false,
          "start_time": "2020-11-14T09:45:42.680026",
          "status": "completed"
        },
        "tags": [],
        "id": "a6wg9gWnoUNo"
      },
      "source": [
        " # Part 4 EXtra- Model Tuning"
      ]
    },
    {
      "cell_type": "code",
      "execution_count": null,
      "metadata": {
        "execution": {
          "iopub.execute_input": "2020-11-14T09:45:43.038490Z",
          "iopub.status.busy": "2020-11-14T09:45:43.037697Z",
          "iopub.status.idle": "2020-11-14T09:45:43.700071Z",
          "shell.execute_reply": "2020-11-14T09:45:43.700802Z"
        },
        "papermill": {
          "duration": 0.784132,
          "end_time": "2020-11-14T09:45:43.700989",
          "exception": false,
          "start_time": "2020-11-14T09:45:42.916857",
          "status": "completed"
        },
        "tags": [],
        "id": "x0CsU--FoUNo"
      },
      "outputs": [],
      "source": [
        "# LightGBM:\n",
        "lgb_model = LGBMClassifier()\n",
        "# Model Tuning\n",
        "lgbm_params = {'colsample_bytree': 0.5,\n",
        " 'learning_rate': 0.01,\n",
        " 'max_depth': 6,\n",
        " 'n_estimators': 500}\n",
        "\n",
        "lgbm_tuned = LGBMClassifier(**lgbm_params).fit(X, y)"
      ]
    },
    {
      "cell_type": "code",
      "execution_count": null,
      "metadata": {
        "execution": {
          "iopub.execute_input": "2020-11-14T09:45:43.999472Z",
          "iopub.status.busy": "2020-11-14T09:45:43.998715Z",
          "iopub.status.idle": "2020-11-14T09:45:47.587045Z",
          "shell.execute_reply": "2020-11-14T09:45:47.586400Z"
        },
        "papermill": {
          "duration": 3.738891,
          "end_time": "2020-11-14T09:45:47.587229",
          "exception": false,
          "start_time": "2020-11-14T09:45:43.848338",
          "status": "completed"
        },
        "tags": [],
        "id": "isrnC0JVoUNo"
      },
      "outputs": [],
      "source": [
        "#Let's choose the highest 4 models\n",
        "# GBM\n",
        "gbm_model = GradientBoostingClassifier()\n",
        "# Model Tuning\n",
        "gbm_params = {'learning_rate': 0.1, 'max_depth': 3, 'n_estimators': 200, 'subsample': 1}\n",
        "gbm_tuned = GradientBoostingClassifier(**gbm_params).fit(X,y)"
      ]
    },
    {
      "cell_type": "code",
      "execution_count": null,
      "metadata": {
        "execution": {
          "iopub.execute_input": "2020-11-14T09:45:47.828781Z",
          "iopub.status.busy": "2020-11-14T09:45:47.827649Z",
          "iopub.status.idle": "2020-11-14T09:46:27.944018Z",
          "shell.execute_reply": "2020-11-14T09:46:27.944902Z"
        },
        "papermill": {
          "duration": 40.242219,
          "end_time": "2020-11-14T09:46:27.945115",
          "exception": false,
          "start_time": "2020-11-14T09:45:47.702896",
          "status": "completed"
        },
        "tags": [],
        "id": "eknFcbLfoUNo"
      },
      "outputs": [],
      "source": [
        "# evaluate each model in turn\n",
        "models = [(\"LightGBM\", lgbm_tuned),\n",
        "          (\"GB\",gbm_tuned)]\n",
        "results = []\n",
        "names = []\n",
        "for name, model in models:\n",
        "    kfold = KFold(n_splits=10, random_state=123456)\n",
        "    cv_results = cross_val_score(model, X, y, cv=10, scoring=\"accuracy\")\n",
        "    results.append(cv_results)\n",
        "    names.append(name)\n",
        "    msg = \"%s: %f (%f)\" % (name, cv_results.mean(), cv_results.std())\n",
        "    print(msg)"
      ]
    },
    {
      "cell_type": "code",
      "execution_count": null,
      "metadata": {
        "execution": {
          "iopub.execute_input": "2020-11-14T09:46:28.192450Z",
          "iopub.status.busy": "2020-11-14T09:46:28.191669Z",
          "iopub.status.idle": "2020-11-14T09:46:32.363890Z",
          "shell.execute_reply": "2020-11-14T09:46:32.363326Z"
        },
        "papermill": {
          "duration": 4.299208,
          "end_time": "2020-11-14T09:46:32.364015",
          "exception": false,
          "start_time": "2020-11-14T09:46:28.064807",
          "status": "completed"
        },
        "tags": [],
        "id": "qN827pckoUNp"
      },
      "outputs": [],
      "source": [
        "for name, model in models:\n",
        "        base = model.fit(X_train,y_train)\n",
        "        y_pred = base.predict(X_test)\n",
        "        acc_score = accuracy_score(y_test, y_pred)\n",
        "        feature_imp = pd.Series(base.feature_importances_,\n",
        "                        index=X.columns).sort_values(ascending=False)\n",
        "\n",
        "        sns.barplot(x=feature_imp, y=feature_imp.index)\n",
        "        plt.xlabel('Değişken Önem Skorları')\n",
        "        plt.ylabel('Değişkenler')\n",
        "        plt.title(name)\n",
        "        plt.show()"
      ]
    }
  ],
  "metadata": {
    "kernelspec": {
      "display_name": "Python 3",
      "language": "python",
      "name": "python3"
    },
    "language_info": {
      "codemirror_mode": {
        "name": "ipython",
        "version": 3
      },
      "file_extension": ".py",
      "mimetype": "text/x-python",
      "name": "python",
      "nbconvert_exporter": "python",
      "pygments_lexer": "ipython3",
      "version": "3.7.6"
    },
    "papermill": {
      "duration": 148.680871,
      "end_time": "2020-11-14T09:46:32.835020",
      "environment_variables": {},
      "exception": null,
      "input_path": "__notebook__.ipynb",
      "output_path": "__notebook__.ipynb",
      "parameters": {},
      "start_time": "2020-11-14T09:44:04.154149",
      "version": "2.1.0"
    },
    "colab": {
      "provenance": []
    }
  },
  "nbformat": 4,
  "nbformat_minor": 0
}